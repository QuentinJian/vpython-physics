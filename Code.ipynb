{
 "cells": [
  {
   "cell_type": "code",
   "execution_count": 1,
   "metadata": {},
   "outputs": [
    {
     "data": {
      "text/html": [
       "<div id=\"glowscript\" class=\"glowscript\"></div>"
      ],
      "text/plain": [
       "<IPython.core.display.HTML object>"
      ]
     },
     "metadata": {},
     "output_type": "display_data"
    },
    {
     "data": {
      "application/javascript": [
       "if (typeof Jupyter !== \"undefined\") { window.__context = { glowscript_container: $(\"#glowscript\").removeAttr(\"id\")};}else{ element.textContent = ' ';}"
      ],
      "text/plain": [
       "<IPython.core.display.Javascript object>"
      ]
     },
     "metadata": {},
     "output_type": "display_data"
    },
    {
     "data": {
      "text/html": [
       "<div id=\"glowscript\" class=\"glowscript\"></div>"
      ],
      "text/plain": [
       "<IPython.core.display.HTML object>"
      ]
     },
     "metadata": {},
     "output_type": "display_data"
    },
    {
     "data": {
      "application/javascript": [
       "if (typeof Jupyter !== \"undefined\") { window.__context = { glowscript_container: $(\"#glowscript\").removeAttr(\"id\")};}else{ element.textContent = ' ';}"
      ],
      "text/plain": [
       "<IPython.core.display.Javascript object>"
      ]
     },
     "metadata": {},
     "output_type": "display_data"
    },
    {
     "data": {
      "application/javascript": [
       "if (typeof Jupyter !== \"undefined\") {require.undef(\"nbextensions/vpython_libraries/glow.min\");}else{element.textContent = ' ';}"
      ],
      "text/plain": [
       "<IPython.core.display.Javascript object>"
      ]
     },
     "metadata": {},
     "output_type": "display_data"
    },
    {
     "data": {
      "application/javascript": [
       "if (typeof Jupyter !== \"undefined\") {require.undef(\"nbextensions/vpython_libraries/glowcomm\");}else{element.textContent = ' ';}"
      ],
      "text/plain": [
       "<IPython.core.display.Javascript object>"
      ]
     },
     "metadata": {},
     "output_type": "display_data"
    },
    {
     "data": {
      "application/javascript": [
       "if (typeof Jupyter !== \"undefined\") {require.undef(\"nbextensions/vpython_libraries/jquery-ui.custom.min\");}else{element.textContent = ' ';}"
      ],
      "text/plain": [
       "<IPython.core.display.Javascript object>"
      ]
     },
     "metadata": {},
     "output_type": "display_data"
    },
    {
     "data": {
      "application/javascript": [
       "if (typeof Jupyter !== \"undefined\") {require([\"nbextensions/vpython_libraries/glow.min\"], function(){console.log(\"GLOW LOADED\");});}else{element.textContent = ' ';}"
      ],
      "text/plain": [
       "<IPython.core.display.Javascript object>"
      ]
     },
     "metadata": {},
     "output_type": "display_data"
    },
    {
     "data": {
      "application/javascript": [
       "if (typeof Jupyter !== \"undefined\") {require([\"nbextensions/vpython_libraries/glowcomm\"], function(){console.log(\"GLOWCOMM LOADED\");});}else{element.textContent = ' ';}"
      ],
      "text/plain": [
       "<IPython.core.display.Javascript object>"
      ]
     },
     "metadata": {},
     "output_type": "display_data"
    },
    {
     "data": {
      "application/javascript": [
       "if (typeof Jupyter !== \"undefined\") {require([\"nbextensions/vpython_libraries/jquery-ui.custom.min\"], function(){console.log(\"JQUERY LOADED\");});}else{element.textContent = ' ';}"
      ],
      "text/plain": [
       "<IPython.core.display.Javascript object>"
      ]
     },
     "metadata": {},
     "output_type": "display_data"
    }
   ],
   "source": [
    "from vpython import *\n",
    "\n",
    "k = 1e5\n",
    "size = 0.5\n",
    "l = size * 5\n",
    "dt = 0.001\n",
    "\n",
    "balls = list()\n",
    "labels = list()\n",
    "springs = list()\n",
    "lines = [[0]*3 for i in range(8)]\n",
    "\n",
    "scene = canvas(width=800, height=600, background=vec(0.5,0.5,0.5))\n",
    "\n",
    "# Generate 8 Balls\n",
    "positions = ((l/6, l/2, l/20), (-l/6, l/2, l/20), (l/6, l/2, -l/20), (-l/6, l/2, -l/20), \n",
    "             (l/6, -l/2, l/20), (-l/6, -l/2, l/20), (l/6, -l/2, -l/20), (-l/6, -l/2, -l/20))\n",
    "velocity = (vec(0, 0, -1), vec(0, 0, 1))\n",
    "for i in range(8):\n",
    "    ball = sphere(pos=vector(positions[i][0], positions[i][1], positions[i][2]), \n",
    "                      radius=size*0.1, texture=textures.rough, make_trail = True)\n",
    "    L = label(pos=ball.pos, text='ball' + str(i))\n",
    "    ball.v = velocity[i%2]\n",
    "    balls.append(ball)\n",
    "    labels.append(L)\n",
    "\n",
    "\n",
    "spring = cylinder(radius=0.01, coils=100, thickness=0.01)\n",
    "spring.pos = balls[1].pos\n",
    "spring.axis = balls[3].pos - balls[1].pos\n",
    "spring.L = spring.length\n",
    "springs.append(spring)\n",
    "lines[1][2] = spring\n",
    "lines[3][2] = spring\n",
    "spring = cylinder(radius=0.01, coils=100, thickness=0.01)\n",
    "spring.pos = balls[1].pos\n",
    "spring.axis = balls[0].pos - balls[1].pos\n",
    "spring.L = spring.length\n",
    "springs.append(spring)\n",
    "lines[1][0] = spring\n",
    "lines[0][0] = spring\n",
    "spring = cylinder(radius=0.01, coils=100, thickness=0.01)\n",
    "spring.pos = balls[3].pos\n",
    "spring.axis = balls[2].pos - balls[3].pos\n",
    "spring.L = spring.length\n",
    "springs.append(spring)\n",
    "lines[2][0] = spring\n",
    "lines[3][0] = spring\n",
    "spring = cylinder(radius=0.01, coils=100, thickness=0.01)\n",
    "spring.pos = balls[2].pos\n",
    "spring.axis = balls[0].pos - balls[2].pos\n",
    "spring.L = spring.length\n",
    "springs.append(spring)\n",
    "lines[2][2] = spring\n",
    "lines[0][2] = spring\n",
    "spring = cylinder(radius=0.01, coils=100, thickness=0.01)\n",
    "spring.pos = balls[1].pos\n",
    "spring.axis = balls[5].pos - balls[1].pos\n",
    "spring.L = spring.length\n",
    "springs.append(spring)\n",
    "lines[1][1] = spring\n",
    "lines[5][1] = spring\n",
    "spring = cylinder(radius=0.01, coils=100, thickness=0.01)\n",
    "spring.pos = balls[3].pos\n",
    "spring.axis = balls[7].pos - balls[3].pos\n",
    "spring.L = spring.length\n",
    "springs.append(spring)\n",
    "lines[3][1] = spring\n",
    "lines[7][1] = spring\n",
    "spring = cylinder(radius=0.01, coils=100, thickness=0.01)\n",
    "spring.pos = balls[5].pos\n",
    "spring.axis = balls[7].pos - balls[5].pos\n",
    "spring.L = spring.length\n",
    "springs.append(spring)\n",
    "lines[5][2] = spring\n",
    "lines[7][2] = spring\n",
    "spring = cylinder(radius=0.01, coils=100, thickness=0.01)\n",
    "spring.pos = balls[5].pos\n",
    "spring.axis = balls[4].pos - balls[5].pos\n",
    "spring.L = spring.length\n",
    "springs.append(spring)\n",
    "lines[5][0] = spring\n",
    "lines[4][0] = spring\n",
    "spring = cylinder(radius=0.01, coils=100, thickness=0.01)\n",
    "spring.pos = balls[4].pos\n",
    "spring.axis = balls[6].pos - balls[4].pos\n",
    "spring.L = spring.length\n",
    "springs.append(spring)\n",
    "lines[4][2] = spring\n",
    "lines[6][2] = spring\n",
    "spring = cylinder(radius=0.01, coils=100, thickness=0.01)\n",
    "spring.pos = balls[6].pos\n",
    "spring.axis = balls[7].pos - balls[6].pos\n",
    "spring.L = spring.length\n",
    "springs.append(spring)\n",
    "lines[6][0] = spring\n",
    "lines[7][0] = spring\n",
    "spring = cylinder(radius=0.01, coils=100, thickness=0.01)\n",
    "spring.pos = balls[2].pos\n",
    "spring.axis = balls[6].pos - balls[2].pos\n",
    "spring.L = spring.length\n",
    "springs.append(spring)\n",
    "lines[2][1] = spring\n",
    "lines[6][1] = spring\n",
    "spring = cylinder(radius=0.01, coils=100, thickness=0.01)\n",
    "spring.pos = balls[0].pos\n",
    "spring.axis = balls[4].pos - balls[0].pos\n",
    "spring.L = spring.length\n",
    "springs.append(spring)\n",
    "lines[0][1] = spring\n",
    "lines[4][1] = spring\n"
   ]
  },
  {
   "cell_type": "code",
   "execution_count": 2,
   "metadata": {},
   "outputs": [],
   "source": [
    "def update_lines():\n",
    "    lines[1][2].axis = balls[3].pos - balls[1].pos\n",
    "    lines[3][2].axis = balls[3].pos - balls[1].pos\n",
    "    \n",
    "    lines[1][0].axis = balls[0].pos - balls[1].pos\n",
    "    lines[0][0].axis = balls[0].pos - balls[1].pos\n",
    "    \n",
    "    lines[2][0].axis = balls[2].pos - balls[3].pos\n",
    "    lines[3][0].axis = balls[2].pos - balls[3].pos\n",
    "    \n",
    "    lines[2][2].axis = balls[0].pos - balls[2].pos\n",
    "    lines[0][2].axis = balls[0].pos - balls[2].pos\n",
    "    \n",
    "    lines[1][1].axis = balls[5].pos - balls[1].pos\n",
    "    lines[5][1].axis = balls[5].pos - balls[1].pos\n",
    "    \n",
    "    lines[3][1].axis = balls[7].pos - balls[3].pos\n",
    "    lines[7][1].axis = balls[7].pos - balls[3].pos\n",
    "    \n",
    "    lines[5][2].axis = balls[7].pos - balls[5].pos\n",
    "    lines[7][2].axis = balls[7].pos - balls[5].pos\n",
    "    \n",
    "    lines[5][0].axis = balls[4].pos - balls[5].pos\n",
    "    lines[4][0].axis = balls[4].pos - balls[5].pos\n",
    "    \n",
    "    lines[4][2].axis = balls[6].pos - balls[4].pos\n",
    "    lines[6][2].axis = balls[6].pos - balls[4].pos\n",
    "    \n",
    "    lines[6][0].axis = balls[7].pos - balls[6].pos\n",
    "    lines[7][0].axis = balls[7].pos - balls[6].pos\n",
    "    \n",
    "    lines[2][1].axis = balls[6].pos - balls[2].pos\n",
    "    lines[6][1].axis = balls[6].pos - balls[2].pos\n",
    "    \n",
    "    lines[0][1].axis = balls[4].pos - balls[0].pos\n",
    "    lines[4][1].axis = balls[4].pos - balls[0].pos\n"
   ]
  },
  {
   "cell_type": "code",
   "execution_count": 3,
   "metadata": {},
   "outputs": [
    {
     "ename": "KeyboardInterrupt",
     "evalue": "",
     "output_type": "error",
     "traceback": [
      "\u001b[1;31m---------------------------------------------------------------------------\u001b[0m",
      "\u001b[1;31mKeyboardInterrupt\u001b[0m                         Traceback (most recent call last)",
      "\u001b[1;32m<ipython-input-3-88ad9c5d9324>\u001b[0m in \u001b[0;36m<module>\u001b[1;34m\u001b[0m\n\u001b[0;32m      1\u001b[0m \u001b[1;32mwhile\u001b[0m \u001b[1;32mTrue\u001b[0m\u001b[1;33m:\u001b[0m\u001b[1;33m\u001b[0m\u001b[1;33m\u001b[0m\u001b[0m\n\u001b[1;32m----> 2\u001b[1;33m     \u001b[0msleep\u001b[0m\u001b[1;33m(\u001b[0m\u001b[1;36m0.1\u001b[0m\u001b[1;33m)\u001b[0m\u001b[1;33m\u001b[0m\u001b[1;33m\u001b[0m\u001b[0m\n\u001b[0m\u001b[0;32m      3\u001b[0m     \u001b[1;32mfor\u001b[0m \u001b[0mi\u001b[0m \u001b[1;32min\u001b[0m \u001b[0mrange\u001b[0m\u001b[1;33m(\u001b[0m\u001b[1;36m8\u001b[0m\u001b[1;33m)\u001b[0m\u001b[1;33m:\u001b[0m\u001b[1;33m\u001b[0m\u001b[1;33m\u001b[0m\u001b[0m\n\u001b[0;32m      4\u001b[0m         \u001b[0mFx\u001b[0m \u001b[1;33m=\u001b[0m \u001b[1;33m-\u001b[0m\u001b[0mk\u001b[0m \u001b[1;33m*\u001b[0m \u001b[1;33m(\u001b[0m\u001b[0mlines\u001b[0m\u001b[1;33m[\u001b[0m\u001b[0mi\u001b[0m\u001b[1;33m]\u001b[0m\u001b[1;33m[\u001b[0m\u001b[1;36m0\u001b[0m\u001b[1;33m]\u001b[0m\u001b[1;33m.\u001b[0m\u001b[0mlength\u001b[0m\u001b[1;33m-\u001b[0m\u001b[0mlines\u001b[0m\u001b[1;33m[\u001b[0m\u001b[0mi\u001b[0m\u001b[1;33m]\u001b[0m\u001b[1;33m[\u001b[0m\u001b[1;36m0\u001b[0m\u001b[1;33m]\u001b[0m\u001b[1;33m.\u001b[0m\u001b[0mL\u001b[0m\u001b[1;33m)\u001b[0m \u001b[1;33m*\u001b[0m \u001b[0mlines\u001b[0m\u001b[1;33m[\u001b[0m\u001b[0mi\u001b[0m\u001b[1;33m]\u001b[0m\u001b[1;33m[\u001b[0m\u001b[1;36m0\u001b[0m\u001b[1;33m]\u001b[0m\u001b[1;33m.\u001b[0m\u001b[0maxis\u001b[0m\u001b[1;33m.\u001b[0m\u001b[0mnorm\u001b[0m\u001b[1;33m(\u001b[0m\u001b[1;33m)\u001b[0m\u001b[1;33m\u001b[0m\u001b[1;33m\u001b[0m\u001b[0m\n\u001b[0;32m      5\u001b[0m         \u001b[0mFy\u001b[0m \u001b[1;33m=\u001b[0m \u001b[1;33m-\u001b[0m\u001b[0mk\u001b[0m \u001b[1;33m*\u001b[0m \u001b[1;33m(\u001b[0m\u001b[0mlines\u001b[0m\u001b[1;33m[\u001b[0m\u001b[0mi\u001b[0m\u001b[1;33m]\u001b[0m\u001b[1;33m[\u001b[0m\u001b[1;36m1\u001b[0m\u001b[1;33m]\u001b[0m\u001b[1;33m.\u001b[0m\u001b[0mlength\u001b[0m\u001b[1;33m-\u001b[0m\u001b[0mlines\u001b[0m\u001b[1;33m[\u001b[0m\u001b[0mi\u001b[0m\u001b[1;33m]\u001b[0m\u001b[1;33m[\u001b[0m\u001b[1;36m1\u001b[0m\u001b[1;33m]\u001b[0m\u001b[1;33m.\u001b[0m\u001b[0mL\u001b[0m\u001b[1;33m)\u001b[0m \u001b[1;33m*\u001b[0m \u001b[0mlines\u001b[0m\u001b[1;33m[\u001b[0m\u001b[0mi\u001b[0m\u001b[1;33m]\u001b[0m\u001b[1;33m[\u001b[0m\u001b[1;36m1\u001b[0m\u001b[1;33m]\u001b[0m\u001b[1;33m.\u001b[0m\u001b[0maxis\u001b[0m\u001b[1;33m.\u001b[0m\u001b[0mnorm\u001b[0m\u001b[1;33m(\u001b[0m\u001b[1;33m)\u001b[0m\u001b[1;33m\u001b[0m\u001b[1;33m\u001b[0m\u001b[0m\n",
      "\u001b[1;32mC:\\ProgramData\\Anaconda3\\lib\\site-packages\\vpython\\vpython.py\u001b[0m in \u001b[0;36msleep\u001b[1;34m(dt)\u001b[0m\n\u001b[0;32m   4071\u001b[0m     \u001b[0mt\u001b[0m \u001b[1;33m=\u001b[0m \u001b[0mclock\u001b[0m\u001b[1;33m(\u001b[0m\u001b[1;33m)\u001b[0m\u001b[1;33m+\u001b[0m\u001b[0mdt\u001b[0m\u001b[1;33m\u001b[0m\u001b[1;33m\u001b[0m\u001b[0m\n\u001b[0;32m   4072\u001b[0m     \u001b[1;32mwhile\u001b[0m \u001b[0mclock\u001b[0m\u001b[1;33m(\u001b[0m\u001b[1;33m)\u001b[0m \u001b[1;33m<\u001b[0m \u001b[0mt\u001b[0m\u001b[1;33m:\u001b[0m\u001b[1;33m\u001b[0m\u001b[1;33m\u001b[0m\u001b[0m\n\u001b[1;32m-> 4073\u001b[1;33m         \u001b[0mrate\u001b[0m\u001b[1;33m(\u001b[0m\u001b[1;36m60\u001b[0m\u001b[1;33m)\u001b[0m\u001b[1;33m\u001b[0m\u001b[1;33m\u001b[0m\u001b[0m\n\u001b[0m\u001b[0;32m   4074\u001b[0m \u001b[1;33m\u001b[0m\u001b[0m\n\u001b[0;32m   4075\u001b[0m \u001b[1;32mdef\u001b[0m \u001b[0mprint_to_string\u001b[0m\u001b[1;33m(\u001b[0m\u001b[1;33m*\u001b[0m\u001b[0margs\u001b[0m\u001b[1;33m)\u001b[0m\u001b[1;33m:\u001b[0m \u001b[1;31m# treatment of <br> vs. \\n not quite right here\u001b[0m\u001b[1;33m\u001b[0m\u001b[1;33m\u001b[0m\u001b[0m\n",
      "\u001b[1;32mC:\\ProgramData\\Anaconda3\\lib\\site-packages\\vpython\\rate_control.py\u001b[0m in \u001b[0;36m__call__\u001b[1;34m(self, N)\u001b[0m\n\u001b[0;32m    264\u001b[0m         \u001b[0mself\u001b[0m\u001b[1;33m.\u001b[0m\u001b[0mrval\u001b[0m \u001b[1;33m=\u001b[0m \u001b[0mN\u001b[0m\u001b[1;33m\u001b[0m\u001b[1;33m\u001b[0m\u001b[0m\n\u001b[0;32m    265\u001b[0m         \u001b[1;32mif\u001b[0m \u001b[0mself\u001b[0m\u001b[1;33m.\u001b[0m\u001b[0mrval\u001b[0m \u001b[1;33m<\u001b[0m \u001b[1;36m1\u001b[0m\u001b[1;33m:\u001b[0m \u001b[1;32mraise\u001b[0m \u001b[0mValueError\u001b[0m\u001b[1;33m(\u001b[0m\u001b[1;34m\"rate value must be greater than or equal to 1\"\u001b[0m\u001b[1;33m)\u001b[0m\u001b[1;33m\u001b[0m\u001b[1;33m\u001b[0m\u001b[0m\n\u001b[1;32m--> 266\u001b[1;33m         \u001b[0msuper\u001b[0m\u001b[1;33m(\u001b[0m\u001b[0m_RateKeeper2\u001b[0m\u001b[1;33m,\u001b[0m \u001b[0mself\u001b[0m\u001b[1;33m)\u001b[0m\u001b[1;33m.\u001b[0m\u001b[0m__call__\u001b[0m\u001b[1;33m(\u001b[0m\u001b[0mself\u001b[0m\u001b[1;33m.\u001b[0m\u001b[0mrval\u001b[0m\u001b[1;33m)\u001b[0m \u001b[1;31m## calls __call__ in rate_control.py\u001b[0m\u001b[1;33m\u001b[0m\u001b[1;33m\u001b[0m\u001b[0m\n\u001b[0m\u001b[0;32m    267\u001b[0m \u001b[1;33m\u001b[0m\u001b[0m\n\u001b[0;32m    268\u001b[0m \u001b[1;33m\u001b[0m\u001b[0m\n",
      "\u001b[1;32mC:\\ProgramData\\Anaconda3\\lib\\site-packages\\vpython\\rate_control.py\u001b[0m in \u001b[0;36m__call__\u001b[1;34m(self, maxRate)\u001b[0m\n\u001b[0;32m    218\u001b[0m             \u001b[0mdt\u001b[0m \u001b[1;33m=\u001b[0m \u001b[0mself\u001b[0m\u001b[1;33m.\u001b[0m\u001b[0mlastSleep\u001b[0m \u001b[1;33m+\u001b[0m \u001b[0mself\u001b[0m\u001b[1;33m.\u001b[0m\u001b[0mcalls\u001b[0m\u001b[1;33m*\u001b[0m\u001b[1;33m(\u001b[0m\u001b[0mself\u001b[0m\u001b[1;33m.\u001b[0m\u001b[0muserTime\u001b[0m \u001b[1;33m+\u001b[0m \u001b[0mself\u001b[0m\u001b[1;33m.\u001b[0m\u001b[0mcallTime\u001b[0m \u001b[1;33m+\u001b[0m \u001b[0mself\u001b[0m\u001b[1;33m.\u001b[0m\u001b[0mdelay\u001b[0m\u001b[1;33m)\u001b[0m \u001b[1;33m+\u001b[0m\u001b[0;31m \u001b[0m\u001b[0;31m\\\u001b[0m\u001b[1;33m\u001b[0m\u001b[1;33m\u001b[0m\u001b[0m\n\u001b[0;32m    219\u001b[0m                  \u001b[0mrenders\u001b[0m\u001b[1;33m*\u001b[0m\u001b[0mself\u001b[0m\u001b[1;33m.\u001b[0m\u001b[0mrenderTime\u001b[0m \u001b[1;33m+\u001b[0m \u001b[0msleeps\u001b[0m\u001b[1;33m*\u001b[0m\u001b[0mself\u001b[0m\u001b[1;33m.\u001b[0m\u001b[0minteractionPeriod\u001b[0m \u001b[1;33m-\u001b[0m \u001b[0m_clock\u001b[0m\u001b[1;33m(\u001b[0m\u001b[1;33m)\u001b[0m\u001b[1;33m\u001b[0m\u001b[1;33m\u001b[0m\u001b[0m\n\u001b[1;32m--> 220\u001b[1;33m             \u001b[0m_sleep\u001b[0m\u001b[1;33m(\u001b[0m\u001b[0mdt\u001b[0m\u001b[1;33m)\u001b[0m\u001b[1;33m\u001b[0m\u001b[1;33m\u001b[0m\u001b[0m\n\u001b[0m\u001b[0;32m    221\u001b[0m             \u001b[0mself\u001b[0m\u001b[1;33m.\u001b[0m\u001b[0mlastSleep\u001b[0m \u001b[1;33m=\u001b[0m \u001b[0m_clock\u001b[0m\u001b[1;33m(\u001b[0m\u001b[1;33m)\u001b[0m\u001b[1;33m\u001b[0m\u001b[1;33m\u001b[0m\u001b[0m\n\u001b[0;32m    222\u001b[0m             \u001b[0mself\u001b[0m\u001b[1;33m.\u001b[0m\u001b[0mcalls\u001b[0m \u001b[1;33m=\u001b[0m \u001b[1;36m0\u001b[0m\u001b[1;33m\u001b[0m\u001b[1;33m\u001b[0m\u001b[0m\n",
      "\u001b[1;32mC:\\ProgramData\\Anaconda3\\lib\\site-packages\\vpython\\rate_control.py\u001b[0m in \u001b[0;36m_sleep\u001b[1;34m(dt)\u001b[0m\n\u001b[0;32m     66\u001b[0m         \u001b[1;32mreturn\u001b[0m\u001b[1;33m\u001b[0m\u001b[1;33m\u001b[0m\u001b[0m\n\u001b[0;32m     67\u001b[0m     \u001b[0mtend\u001b[0m \u001b[1;33m=\u001b[0m \u001b[0m_clock\u001b[0m\u001b[1;33m(\u001b[0m\u001b[1;33m)\u001b[0m\u001b[1;33m+\u001b[0m\u001b[0mdt\u001b[0m\u001b[1;33m\u001b[0m\u001b[1;33m\u001b[0m\u001b[0m\n\u001b[1;32m---> 68\u001b[1;33m     \u001b[1;32mwhile\u001b[0m \u001b[0m_clock\u001b[0m\u001b[1;33m(\u001b[0m\u001b[1;33m)\u001b[0m \u001b[1;33m<\u001b[0m \u001b[0mtend\u001b[0m\u001b[1;33m:\u001b[0m\u001b[1;33m\u001b[0m\u001b[1;33m\u001b[0m\u001b[0m\n\u001b[0m\u001b[0;32m     69\u001b[0m         \u001b[1;32mpass\u001b[0m\u001b[1;33m\u001b[0m\u001b[1;33m\u001b[0m\u001b[0m\n\u001b[0;32m     70\u001b[0m \u001b[1;33m\u001b[0m\u001b[0m\n",
      "\u001b[1;31mKeyboardInterrupt\u001b[0m: "
     ]
    }
   ],
   "source": [
    "while True:\n",
    "    sleep(0.1)\n",
    "    for i in range(8): \n",
    "        Fx = -k * (lines[i][0].length-lines[i][0].L) * lines[i][0].axis.norm()\n",
    "        Fy = -k * (lines[i][1].length-lines[i][1].L) * lines[i][1].axis.norm()\n",
    "        Fz = -k * (lines[i][2].length-lines[i][2].L) * lines[i][2].axis.norm()\n",
    "        balls[i].a = Fx + Fy + Fz\n",
    "        balls[i].v = balls[i].v + balls[i].a*dt\n",
    "        balls[i].pos = balls[i].pos + balls[i].v * dt\n",
    "        update_lines()"
   ]
  },
  {
   "cell_type": "code",
   "execution_count": null,
   "metadata": {},
   "outputs": [],
   "source": []
  }
 ],
 "metadata": {
  "kernelspec": {
   "display_name": "Python 3",
   "language": "python",
   "name": "python3"
  },
  "language_info": {
   "codemirror_mode": {
    "name": "ipython",
    "version": 3
   },
   "file_extension": ".py",
   "mimetype": "text/x-python",
   "name": "python",
   "nbconvert_exporter": "python",
   "pygments_lexer": "ipython3",
   "version": "3.8.5"
  }
 },
 "nbformat": 4,
 "nbformat_minor": 4
}
