{
 "cells": [
  {
   "cell_type": "code",
   "execution_count": 6,
   "metadata": {},
   "outputs": [
    {
     "data": {
      "text/html": [
       "<div id=\"glowscript\" class=\"glowscript\"></div>"
      ],
      "text/plain": [
       "<IPython.core.display.HTML object>"
      ]
     },
     "metadata": {},
     "output_type": "display_data"
    },
    {
     "data": {
      "application/javascript": [
       "if (typeof Jupyter !== \"undefined\") { window.__context = { glowscript_container: $(\"#glowscript\").removeAttr(\"id\")};}else{ element.textContent = ' ';}"
      ],
      "text/plain": [
       "<IPython.core.display.Javascript object>"
      ]
     },
     "metadata": {},
     "output_type": "display_data"
    }
   ],
   "source": [
    "from vpython import *\n",
    "\n",
    "density_stucco = 400.0\n",
    "density_metal = 900.0\n",
    "density_earth = 2000.0\n",
    "\n",
    "size = 0.05\n",
    "L = 1.00\n",
    "V = (4/3)*pi*(size)**3\n",
    "P = 0.1\n",
    "dt = 0.001\n",
    "\n",
    "scene = canvas(width=800, height=800, background=vector(0.5, 0.5, 0.5))\n",
    "bottom = box(pos=vector(0, -size, 0), length=2*L, height=0.001, width=2)\n",
    "wall = box(pos=vector(L, -size/2, 0), length=0.01, height=size, width=2)\n",
    "\n",
    "ball_stucco = sphere(pos=vector(-L, 0, -0.40), radius=size, texture=textures.stucco)\n",
    "ball_metal = sphere(pos=vector(-L, 0, 0), radius=size, texture=textures.metal)\n",
    "ball_earth = sphere(pos=vector(-L, 0, 0.40), radius=size, texture=textures.earth)\n",
    "\n",
    "ball_stucco.m = V*density_stucco\n",
    "ball_metal.m = V*density_metal\n",
    "ball_earth.m = V*density_earth\n",
    "\n",
    "ball_stucco.v = P / ball_stucco.m\n",
    "ball_metal.v = P / ball_metal.m\n",
    "ball_earth.v = P / ball_earth.m\n",
    "\n",
    "balls = [ball_stucco, ball_metal, ball_earth]"
   ]
  },
  {
   "cell_type": "code",
   "execution_count": null,
   "metadata": {},
   "outputs": [],
   "source": [
    "while True:\n",
    "    rate(1000)\n",
    "    for ball in balls: \n",
    "        ball.pos.x = ball.pos.x + ball.v * dt\n",
    "        ball.rotate(axis=vector(0, 0, 1), angle=-ball.v*dt/size)\n",
    "        if wall.pos.x-ball.pos.x <= size+wall.length/2:\n",
    "            ball.v = 0"
   ]
  },
  {
   "cell_type": "code",
   "execution_count": null,
   "metadata": {},
   "outputs": [],
   "source": []
  }
 ],
 "metadata": {
  "kernelspec": {
   "display_name": "Python 3",
   "language": "python",
   "name": "python3"
  },
  "language_info": {
   "codemirror_mode": {
    "name": "ipython",
    "version": 3
   },
   "file_extension": ".py",
   "mimetype": "text/x-python",
   "name": "python",
   "nbconvert_exporter": "python",
   "pygments_lexer": "ipython3",
   "version": "3.8.5"
  }
 },
 "nbformat": 4,
 "nbformat_minor": 4
}
