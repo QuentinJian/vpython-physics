{
 "cells": [
  {
   "cell_type": "code",
   "execution_count": 1,
   "metadata": {},
   "outputs": [
    {
     "data": {
      "text/html": [
       "<div id=\"glowscript\" class=\"glowscript\"></div>"
      ],
      "text/plain": [
       "<IPython.core.display.HTML object>"
      ]
     },
     "metadata": {},
     "output_type": "display_data"
    },
    {
     "data": {
      "application/javascript": [
       "if (typeof Jupyter !== \"undefined\") { window.__context = { glowscript_container: $(\"#glowscript\").removeAttr(\"id\")};}else{ element.textContent = ' ';}"
      ],
      "text/plain": [
       "<IPython.core.display.Javascript object>"
      ]
     },
     "metadata": {},
     "output_type": "display_data"
    },
    {
     "data": {
      "text/html": [
       "<div id=\"glowscript\" class=\"glowscript\"></div>"
      ],
      "text/plain": [
       "<IPython.core.display.HTML object>"
      ]
     },
     "metadata": {},
     "output_type": "display_data"
    },
    {
     "data": {
      "application/javascript": [
       "if (typeof Jupyter !== \"undefined\") { window.__context = { glowscript_container: $(\"#glowscript\").removeAttr(\"id\")};}else{ element.textContent = ' ';}"
      ],
      "text/plain": [
       "<IPython.core.display.Javascript object>"
      ]
     },
     "metadata": {},
     "output_type": "display_data"
    },
    {
     "data": {
      "application/javascript": [
       "if (typeof Jupyter !== \"undefined\") {require.undef(\"nbextensions/vpython_libraries/glow.min\");}else{element.textContent = ' ';}"
      ],
      "text/plain": [
       "<IPython.core.display.Javascript object>"
      ]
     },
     "metadata": {},
     "output_type": "display_data"
    },
    {
     "data": {
      "application/javascript": [
       "if (typeof Jupyter !== \"undefined\") {require.undef(\"nbextensions/vpython_libraries/glowcomm\");}else{element.textContent = ' ';}"
      ],
      "text/plain": [
       "<IPython.core.display.Javascript object>"
      ]
     },
     "metadata": {},
     "output_type": "display_data"
    },
    {
     "data": {
      "application/javascript": [
       "if (typeof Jupyter !== \"undefined\") {require.undef(\"nbextensions/vpython_libraries/jquery-ui.custom.min\");}else{element.textContent = ' ';}"
      ],
      "text/plain": [
       "<IPython.core.display.Javascript object>"
      ]
     },
     "metadata": {},
     "output_type": "display_data"
    },
    {
     "data": {
      "application/javascript": [
       "if (typeof Jupyter !== \"undefined\") {require([\"nbextensions/vpython_libraries/glow.min\"], function(){console.log(\"GLOW LOADED\");});}else{element.textContent = ' ';}"
      ],
      "text/plain": [
       "<IPython.core.display.Javascript object>"
      ]
     },
     "metadata": {},
     "output_type": "display_data"
    },
    {
     "data": {
      "application/javascript": [
       "if (typeof Jupyter !== \"undefined\") {require([\"nbextensions/vpython_libraries/glowcomm\"], function(){console.log(\"GLOWCOMM LOADED\");});}else{element.textContent = ' ';}"
      ],
      "text/plain": [
       "<IPython.core.display.Javascript object>"
      ]
     },
     "metadata": {},
     "output_type": "display_data"
    },
    {
     "data": {
      "application/javascript": [
       "if (typeof Jupyter !== \"undefined\") {require([\"nbextensions/vpython_libraries/jquery-ui.custom.min\"], function(){console.log(\"JQUERY LOADED\");});}else{element.textContent = ' ';}"
      ],
      "text/plain": [
       "<IPython.core.display.Javascript object>"
      ]
     },
     "metadata": {},
     "output_type": "display_data"
    }
   ],
   "source": [
    "from vpython import *\n",
    "\n",
    "g = -9.8\n",
    "dt = 0.0001\n",
    "t = 0\n",
    "scene = canvas(width=600, height=600, background=vector(0.5, 0.6, 0.5), cnter=vector(0, 2, 0))\n",
    "floor = box(pos=vector(0, 0, 0), length=5, height=0.5, width=5, texture=textures.wood)\n",
    "gd = graph(title='y vs t', xtitle='t', ytitle='y', ymax=13, xmax=10, background=vec(0.3, 0.3, 0.3))\n",
    "yt1 = gcurve(graph=gd, color=color.cyan)\n",
    "yt2 = gcurve(graph=gd, color=color.red)\n",
    "yt3 = gcurve(graph=gd, color=color.green)\n",
    "\n",
    "ball1 = sphere(radius=0.2, color=color.white, v=0, m=0.2)\n",
    "ball2 = sphere(radius=0.4, color=color.white, v=0, m=0.6)\n",
    "ball3 = sphere(radius=0.3, color=color.white, v=0, m=0.4)\n",
    "ball2.pos = vector(0, 2+floor.size.y/2+ball1.radius, 0)\n",
    "ball1.pos = vector(0, 2+floor.size.y/2+ball1.radius+ball3.radius+ball2.radius+0.75, 0)\n",
    "ball3.pos = vector(0, 2+floor.size.y/2+ball1.radius+ball3.radius+0.5, 0)\n",
    "\n",
    "def collide(v1, v2, m1, m2):\n",
    "    v1f = v1*(m1-m2)/(m1+m2) + v2*2*m2/(m1+m2)\n",
    "    v2f = v1*2*m1/(m2+m1) + v2*(m2-m1)/(m2+m1)\n",
    "    return v1f, v2f\n"
   ]
  },
  {
   "cell_type": "code",
   "execution_count": 2,
   "metadata": {},
   "outputs": [],
   "source": [
    "t = 0\n",
    "while t<=10:\n",
    "    rate(5000)\n",
    "    t = t + dt\n",
    "    ball1.v = ball1.v + g*dt\n",
    "    ball1.pos.y = ball1.pos.y + ball1.v * dt\n",
    "    yt1.plot(pos=(t, ball1.pos.y))\n",
    "    ball2.v = ball2.v + g*dt\n",
    "    ball2.pos.y = ball2.pos.y + ball2.v*dt\n",
    "    ball3.v = ball3.v + g*dt\n",
    "    ball3.pos.y = ball3.pos.y + ball3.v*dt\n",
    "    yt3.plot(pos=(t, ball3.pos.y))\n",
    "    if ball2.pos.y-floor.pos.y <= ball2.radius+floor.height/2:\n",
    "        ball2.v = -ball2.v\n",
    "    yt2.plot(pos=(t, ball2.pos.y))\n",
    "    if mag(ball3.pos-ball2.pos) < ball3.radius + ball2.radius:\n",
    "        ball3.v, ball2.v = collide(ball3.v, ball2.v, ball3.m, ball2.m)\n",
    "    if mag(ball1.pos-ball3.pos) < ball1.radius + ball3.radius:\n",
    "        ball1.v, ball3.v = collide(ball1.v, ball3.v, ball1.m, ball3.m)"
   ]
  },
  {
   "cell_type": "code",
   "execution_count": null,
   "metadata": {},
   "outputs": [],
   "source": []
  }
 ],
 "metadata": {
  "kernelspec": {
   "display_name": "Python 3",
   "language": "python",
   "name": "python3"
  },
  "language_info": {
   "codemirror_mode": {
    "name": "ipython",
    "version": 3
   },
   "file_extension": ".py",
   "mimetype": "text/x-python",
   "name": "python",
   "nbconvert_exporter": "python",
   "pygments_lexer": "ipython3",
   "version": "3.8.5"
  }
 },
 "nbformat": 4,
 "nbformat_minor": 4
}
