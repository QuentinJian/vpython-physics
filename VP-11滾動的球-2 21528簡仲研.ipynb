{
 "cells": [
  {
   "cell_type": "code",
   "execution_count": 1,
   "metadata": {},
   "outputs": [
    {
     "data": {
      "text/html": [
       "<div id=\"glowscript\" class=\"glowscript\"></div>"
      ],
      "text/plain": [
       "<IPython.core.display.HTML object>"
      ]
     },
     "metadata": {},
     "output_type": "display_data"
    },
    {
     "data": {
      "application/javascript": [
       "if (typeof Jupyter !== \"undefined\") { window.__context = { glowscript_container: $(\"#glowscript\").removeAttr(\"id\")};}else{ element.textContent = ' ';}"
      ],
      "text/plain": [
       "<IPython.core.display.Javascript object>"
      ]
     },
     "metadata": {},
     "output_type": "display_data"
    },
    {
     "data": {
      "text/html": [
       "<div id=\"glowscript\" class=\"glowscript\"></div>"
      ],
      "text/plain": [
       "<IPython.core.display.HTML object>"
      ]
     },
     "metadata": {},
     "output_type": "display_data"
    },
    {
     "data": {
      "application/javascript": [
       "if (typeof Jupyter !== \"undefined\") { window.__context = { glowscript_container: $(\"#glowscript\").removeAttr(\"id\")};}else{ element.textContent = ' ';}"
      ],
      "text/plain": [
       "<IPython.core.display.Javascript object>"
      ]
     },
     "metadata": {},
     "output_type": "display_data"
    },
    {
     "data": {
      "application/javascript": [
       "if (typeof Jupyter !== \"undefined\") {require.undef(\"nbextensions/vpython_libraries/glow.min\");}else{element.textContent = ' ';}"
      ],
      "text/plain": [
       "<IPython.core.display.Javascript object>"
      ]
     },
     "metadata": {},
     "output_type": "display_data"
    },
    {
     "data": {
      "application/javascript": [
       "if (typeof Jupyter !== \"undefined\") {require.undef(\"nbextensions/vpython_libraries/glowcomm\");}else{element.textContent = ' ';}"
      ],
      "text/plain": [
       "<IPython.core.display.Javascript object>"
      ]
     },
     "metadata": {},
     "output_type": "display_data"
    },
    {
     "data": {
      "application/javascript": [
       "if (typeof Jupyter !== \"undefined\") {require.undef(\"nbextensions/vpython_libraries/jquery-ui.custom.min\");}else{element.textContent = ' ';}"
      ],
      "text/plain": [
       "<IPython.core.display.Javascript object>"
      ]
     },
     "metadata": {},
     "output_type": "display_data"
    },
    {
     "data": {
      "application/javascript": [
       "if (typeof Jupyter !== \"undefined\") {require([\"nbextensions/vpython_libraries/glow.min\"], function(){console.log(\"GLOW LOADED\");});}else{element.textContent = ' ';}"
      ],
      "text/plain": [
       "<IPython.core.display.Javascript object>"
      ]
     },
     "metadata": {},
     "output_type": "display_data"
    },
    {
     "data": {
      "application/javascript": [
       "if (typeof Jupyter !== \"undefined\") {require([\"nbextensions/vpython_libraries/glowcomm\"], function(){console.log(\"GLOWCOMM LOADED\");});}else{element.textContent = ' ';}"
      ],
      "text/plain": [
       "<IPython.core.display.Javascript object>"
      ]
     },
     "metadata": {},
     "output_type": "display_data"
    },
    {
     "data": {
      "application/javascript": [
       "if (typeof Jupyter !== \"undefined\") {require([\"nbextensions/vpython_libraries/jquery-ui.custom.min\"], function(){console.log(\"JQUERY LOADED\");});}else{element.textContent = ' ';}"
      ],
      "text/plain": [
       "<IPython.core.display.Javascript object>"
      ]
     },
     "metadata": {},
     "output_type": "display_data"
    }
   ],
   "source": [
    "from vpython import *\n",
    "\n",
    "size = 0.5\n",
    "dt = 0.001\n",
    "t = 0\n",
    "L = 1\n",
    "\n",
    "\n",
    "scene = canvas(width=800, height=600, background=vec(0.5,0.5,0.5))\n",
    "bottom = box(pos=vector(0, 0, 0), length=4*L, height=0.1, width=8)\n",
    "wall = box(pos=vector(2*L+0.01/2, size-0.1/2, 0), length=0.01, height=2*size, width=8)\n",
    "earth = sphere(pos=vector(-2*L, size+0.1/2, 0), radius=size, texture=textures.earth)\n",
    "sponge = sphere(pos=vector(-2*L, size*0.5+0.1/2, 1), radius=size*0.5, texture=\"https://lh3.googleusercontent.com/zOFgJ9ERQOwCuH1WbURwOvxPXtJiprXm6d9_tHJk1-XLtHuFIBr3ru-Y7rfbj_eqm1JljXn37HH-Rn2hxaSk5TA=s400\")\n",
    "deathstar = sphere(pos=vector(-2*L, size*0.3+0.1/2, 2), radius=size*0.3, texture=\"https://cdnb.artstation.com/p/assets/images/images/009/344/797/large/david-simmons-tsw-sur-lookdev-v013.jpg?1518449494\")\n",
    "wood = sphere(pos=vector(-2*L, size*0.2+0.1/2, -1), radius=size*0.2, texture=textures.wood)\n",
    "rough = sphere(pos=vector(-2*L, size*0.1+0.1/2, -2), radius=size*0.1, texture=textures.rough)\n",
    "\n",
    "balls = [earth, sponge, deathstar, wood, rough]\n",
    "for i in balls:\n",
    "    i.v = i.radius"
   ]
  },
  {
   "cell_type": "markdown",
   "metadata": {},
   "source": [
    "# 計算角速度   \n",
    "\n",
    "$V_c = \\frac{s}{\\Delta t} = r\\frac{\\Delta \\Theta }{\\Delta t}$    \n",
    "  ```python\n",
    "earth.v = 0.5\n",
    "  \n",
    "  ```\n",
    "$\\omega = \\frac{Earth.v}{size} \\ \\ (size=0.5)$"
   ]
  },
  {
   "cell_type": "code",
   "execution_count": null,
   "metadata": {},
   "outputs": [],
   "source": [
    "while True:\n",
    "    rate(1000)\n",
    "    for ball in balls:\n",
    "        ball.pos.x = ball.pos.x + ball.v * dt\n",
    "        ball.rotate(axis=vector(0, 0, 1), angle=-ball.v*dt/ball.radius)\n",
    "        if wall.pos.x - ball.pos.x <= ball.radius+wall.length/2:\n",
    "            ball.v = 0"
   ]
  },
  {
   "cell_type": "code",
   "execution_count": null,
   "metadata": {},
   "outputs": [],
   "source": []
  }
 ],
 "metadata": {
  "kernelspec": {
   "display_name": "Python 3",
   "language": "python",
   "name": "python3"
  },
  "language_info": {
   "codemirror_mode": {
    "name": "ipython",
    "version": 3
   },
   "file_extension": ".py",
   "mimetype": "text/x-python",
   "name": "python",
   "nbconvert_exporter": "python",
   "pygments_lexer": "ipython3",
   "version": "3.8.5"
  }
 },
 "nbformat": 4,
 "nbformat_minor": 4
}
