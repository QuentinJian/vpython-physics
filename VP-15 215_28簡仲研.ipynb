{
 "cells": [
  {
   "cell_type": "code",
   "execution_count": 1,
   "metadata": {},
   "outputs": [
    {
     "data": {
      "text/html": [
       "<div id=\"glowscript\" class=\"glowscript\"></div>"
      ],
      "text/plain": [
       "<IPython.core.display.HTML object>"
      ]
     },
     "metadata": {},
     "output_type": "display_data"
    },
    {
     "data": {
      "application/javascript": [
       "if (typeof Jupyter !== \"undefined\") { window.__context = { glowscript_container: $(\"#glowscript\").removeAttr(\"id\")};}else{ element.textContent = ' ';}"
      ],
      "text/plain": [
       "<IPython.core.display.Javascript object>"
      ]
     },
     "metadata": {},
     "output_type": "display_data"
    },
    {
     "data": {
      "text/html": [
       "<div id=\"glowscript\" class=\"glowscript\"></div>"
      ],
      "text/plain": [
       "<IPython.core.display.HTML object>"
      ]
     },
     "metadata": {},
     "output_type": "display_data"
    },
    {
     "data": {
      "application/javascript": [
       "if (typeof Jupyter !== \"undefined\") { window.__context = { glowscript_container: $(\"#glowscript\").removeAttr(\"id\")};}else{ element.textContent = ' ';}"
      ],
      "text/plain": [
       "<IPython.core.display.Javascript object>"
      ]
     },
     "metadata": {},
     "output_type": "display_data"
    },
    {
     "data": {
      "application/javascript": [
       "if (typeof Jupyter !== \"undefined\") {require.undef(\"nbextensions/vpython_libraries/glow.min\");}else{element.textContent = ' ';}"
      ],
      "text/plain": [
       "<IPython.core.display.Javascript object>"
      ]
     },
     "metadata": {},
     "output_type": "display_data"
    },
    {
     "data": {
      "application/javascript": [
       "if (typeof Jupyter !== \"undefined\") {require.undef(\"nbextensions/vpython_libraries/glowcomm\");}else{element.textContent = ' ';}"
      ],
      "text/plain": [
       "<IPython.core.display.Javascript object>"
      ]
     },
     "metadata": {},
     "output_type": "display_data"
    },
    {
     "data": {
      "application/javascript": [
       "if (typeof Jupyter !== \"undefined\") {require.undef(\"nbextensions/vpython_libraries/jquery-ui.custom.min\");}else{element.textContent = ' ';}"
      ],
      "text/plain": [
       "<IPython.core.display.Javascript object>"
      ]
     },
     "metadata": {},
     "output_type": "display_data"
    },
    {
     "data": {
      "application/javascript": [
       "if (typeof Jupyter !== \"undefined\") {require([\"nbextensions/vpython_libraries/glow.min\"], function(){console.log(\"GLOW LOADED\");});}else{element.textContent = ' ';}"
      ],
      "text/plain": [
       "<IPython.core.display.Javascript object>"
      ]
     },
     "metadata": {},
     "output_type": "display_data"
    },
    {
     "data": {
      "application/javascript": [
       "if (typeof Jupyter !== \"undefined\") {require([\"nbextensions/vpython_libraries/glowcomm\"], function(){console.log(\"GLOWCOMM LOADED\");});}else{element.textContent = ' ';}"
      ],
      "text/plain": [
       "<IPython.core.display.Javascript object>"
      ]
     },
     "metadata": {},
     "output_type": "display_data"
    },
    {
     "data": {
      "application/javascript": [
       "if (typeof Jupyter !== \"undefined\") {require([\"nbextensions/vpython_libraries/jquery-ui.custom.min\"], function(){console.log(\"JQUERY LOADED\");});}else{element.textContent = ' ';}"
      ],
      "text/plain": [
       "<IPython.core.display.Javascript object>"
      ]
     },
     "metadata": {},
     "output_type": "display_data"
    }
   ],
   "source": [
    "from vpython import *\n",
    "import math\n",
    "\n",
    "g = 9.8\n",
    "dt  = 0.0001\n",
    "t = 0\n",
    "K = 100000.0\n",
    "\n",
    "scene = canvas(centor=vector(0, -1.0, 0), background=vector(0.5, 0.5, 0))\n",
    "ceiling = box(length=1, width=1, height=0.01, color=color.blue)\n",
    "ball1 = sphere(radius=0.1, color=color.red, make_trail=True)\n",
    "ball2 = sphere(radius=0.1, color=color.blue, make_trail=True)\n",
    "\n",
    "ball1.pos = vector(1, -1, 0)\n",
    "ball1.m = 0.5\n",
    "ball1.v = vector(0, 0, 0)\n",
    "\n",
    "\n",
    "line1 = cylinder(radius=0.01)\n",
    "line1.pos = ceiling.pos\n",
    "line1.axis = ball1.pos - ceiling.pos\n",
    "line1.L = line1.length\n",
    "\n",
    "ball2.pos = vector(-0.2, -line1.length, 0)\n",
    "ball2.m = 0.5\n",
    "ball2.v = vector(0, 0, 0)\n",
    "\n",
    "line2 = cylinder(radius=0.01)\n",
    "line2.pos = ceiling.pos - vector(0.2, 0, 0)\n",
    "line2.axis = vector(0, -line1.length, 0)\n",
    "line2.L = line1.length"
   ]
  },
  {
   "cell_type": "code",
   "execution_count": 2,
   "metadata": {},
   "outputs": [],
   "source": [
    "def collide(v1, v2, m1, m2):\n",
    "    v1f = v1*(m1-m2)/(m1+m2) + v2*2*m2/(m1+m2)\n",
    "    v2f = v1*2*m1/(m2+m1) + v2*(m2-m1)/(m2+m1)\n",
    "    return v1f, v2f"
   ]
  },
  {
   "cell_type": "code",
   "execution_count": null,
   "metadata": {},
   "outputs": [],
   "source": [
    "while True:\n",
    "    rate(2000)\n",
    "    F1 = -K * (line1.length-line1.L) * line1.axis.norm()\n",
    "    ball1.a = vector(0, -g, 0) + F1/ball1.m\n",
    "    ball1.v = ball1.v + ball1.a * dt\n",
    "    ball1.pos = ball1.pos + ball1.v * dt\n",
    "    line1.axis = ball1.pos - line1.pos\n",
    "    F2 = -K * (line2.length-line2.L) * line2.axis.norm()\n",
    "    ball2.a = vector(0, -g, 0) + F2/ball2.m\n",
    "    ball2.v = ball2.v + ball2.a * dt\n",
    "    ball2.pos = ball2.pos + ball2.v * dt\n",
    "    line2.axis = ball2.pos - line2.pos\n",
    "    if mag(ball1.pos-ball2.pos) < (ball1.radius+ball2.radius):\n",
    "        ball1.v, ball2.v = collide(ball1.v, ball2.v, ball1.m, ball2.m)"
   ]
  },
  {
   "cell_type": "code",
   "execution_count": null,
   "metadata": {},
   "outputs": [],
   "source": []
  }
 ],
 "metadata": {
  "kernelspec": {
   "display_name": "Python 3",
   "language": "python",
   "name": "python3"
  },
  "language_info": {
   "codemirror_mode": {
    "name": "ipython",
    "version": 3
   },
   "file_extension": ".py",
   "mimetype": "text/x-python",
   "name": "python",
   "nbconvert_exporter": "python",
   "pygments_lexer": "ipython3",
   "version": "3.8.5"
  }
 },
 "nbformat": 4,
 "nbformat_minor": 4
}
