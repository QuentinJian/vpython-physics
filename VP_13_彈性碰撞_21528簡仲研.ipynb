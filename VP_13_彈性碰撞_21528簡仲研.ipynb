{
 "cells": [
  {
   "cell_type": "markdown",
   "metadata": {},
   "source": [
    "# 一維彈性碰撞公式\n",
    "\n",
    "$u_1 = \\frac{m_1-m_2}{m_1+m_2}\\vec{v_1} + \\frac{2m_2}{m_1+m_2}\\vec{v_2}$  \n",
    "  \n",
    "$u_2 = \\frac{2m_1}{m_1+m_2}\\vec{v_1} + \\frac{m_2-m_1}{m_1+m_2}\\vec{v_2}$"
   ]
  },
  {
   "cell_type": "code",
   "execution_count": 1,
   "metadata": {},
   "outputs": [
    {
     "data": {
      "text/html": [
       "<div id=\"glowscript\" class=\"glowscript\"></div>"
      ],
      "text/plain": [
       "<IPython.core.display.HTML object>"
      ]
     },
     "metadata": {},
     "output_type": "display_data"
    },
    {
     "data": {
      "application/javascript": [
       "if (typeof Jupyter !== \"undefined\") { window.__context = { glowscript_container: $(\"#glowscript\").removeAttr(\"id\")};}else{ element.textContent = ' ';}"
      ],
      "text/plain": [
       "<IPython.core.display.Javascript object>"
      ]
     },
     "metadata": {},
     "output_type": "display_data"
    },
    {
     "data": {
      "text/html": [
       "<div id=\"glowscript\" class=\"glowscript\"></div>"
      ],
      "text/plain": [
       "<IPython.core.display.HTML object>"
      ]
     },
     "metadata": {},
     "output_type": "display_data"
    },
    {
     "data": {
      "application/javascript": [
       "if (typeof Jupyter !== \"undefined\") { window.__context = { glowscript_container: $(\"#glowscript\").removeAttr(\"id\")};}else{ element.textContent = ' ';}"
      ],
      "text/plain": [
       "<IPython.core.display.Javascript object>"
      ]
     },
     "metadata": {},
     "output_type": "display_data"
    },
    {
     "data": {
      "application/javascript": [
       "if (typeof Jupyter !== \"undefined\") {require.undef(\"nbextensions/vpython_libraries/glow.min\");}else{element.textContent = ' ';}"
      ],
      "text/plain": [
       "<IPython.core.display.Javascript object>"
      ]
     },
     "metadata": {},
     "output_type": "display_data"
    },
    {
     "data": {
      "application/javascript": [
       "if (typeof Jupyter !== \"undefined\") {require.undef(\"nbextensions/vpython_libraries/glowcomm\");}else{element.textContent = ' ';}"
      ],
      "text/plain": [
       "<IPython.core.display.Javascript object>"
      ]
     },
     "metadata": {},
     "output_type": "display_data"
    },
    {
     "data": {
      "application/javascript": [
       "if (typeof Jupyter !== \"undefined\") {require.undef(\"nbextensions/vpython_libraries/jquery-ui.custom.min\");}else{element.textContent = ' ';}"
      ],
      "text/plain": [
       "<IPython.core.display.Javascript object>"
      ]
     },
     "metadata": {},
     "output_type": "display_data"
    },
    {
     "data": {
      "application/javascript": [
       "if (typeof Jupyter !== \"undefined\") {require([\"nbextensions/vpython_libraries/glow.min\"], function(){console.log(\"GLOW LOADED\");});}else{element.textContent = ' ';}"
      ],
      "text/plain": [
       "<IPython.core.display.Javascript object>"
      ]
     },
     "metadata": {},
     "output_type": "display_data"
    },
    {
     "data": {
      "application/javascript": [
       "if (typeof Jupyter !== \"undefined\") {require([\"nbextensions/vpython_libraries/glowcomm\"], function(){console.log(\"GLOWCOMM LOADED\");});}else{element.textContent = ' ';}"
      ],
      "text/plain": [
       "<IPython.core.display.Javascript object>"
      ]
     },
     "metadata": {},
     "output_type": "display_data"
    },
    {
     "data": {
      "application/javascript": [
       "if (typeof Jupyter !== \"undefined\") {require([\"nbextensions/vpython_libraries/jquery-ui.custom.min\"], function(){console.log(\"JQUERY LOADED\");});}else{element.textContent = ' ';}"
      ],
      "text/plain": [
       "<IPython.core.display.Javascript object>"
      ]
     },
     "metadata": {},
     "output_type": "display_data"
    }
   ],
   "source": [
    "from vpython import *\n",
    "\n",
    "scene = canvas(width=600, height=400, background=vector(0.5, 0.6, 0.5))\n",
    "arrow1 = arrow(pos=vector(-1, 0, 0), axis=vector(2, 0, 0), shaftwidth=0.005)\n",
    "arrow2 = arrow(pos=vector(0, 0, 0), axis=vector(0, 0.2, 0), shaftwidth=0.005)\n",
    "\n",
    "gd1 = graph(title='v vs t', xtitle='t', ytitle='v', ymax=2, xmax=2, background=vec(0.3, 0.3, 0.3))\n",
    "vt1 = gcurve(graph=gd1, color=color.white)\n",
    "vt2 = gcurve(graph=gd1, color=color.orange)\n",
    "\n",
    "gdp = graph(title='P vs t', xtitle='t', ytitle='v', background=vec(0.3, 0.3, 0.3))\n",
    "pt = gcurve(graph=gdp, color=color.red)\n",
    "\n",
    "ball_iron = sphere(radius=0.05, pos=vector(-0.2, 0, 0), texture=textures.metal)\n",
    "ball_iron.m = 4\n",
    "ball_iron.v = vec(0.25, 0, 0)\n",
    "\n",
    "ball_pingpong = sphere(radius=0.02, pos=vector(0.1, 0, 0), color=color.orange)\n",
    "ball_pingpong.m = 0.2\n",
    "ball_pingpong.v = vec(-0.25, 0, 0)\n",
    "\n",
    "def collide(v1, v2, m1, m2):\n",
    "    v1f = v1*(m1-m2)/(m1+m2) + v2*2*m2/(m1+m2)\n",
    "    v2f = v1*2*m1/(m2+m1) + v2*(m2-m1)/(m2+m1)\n",
    "    return v1f, v2f\n",
    "\n",
    "def cal_momentum(ball1, ball2):\n",
    "    return ball1.v.x * ball1.m + ball2.v.x * ball2.m"
   ]
  },
  {
   "cell_type": "code",
   "execution_count": 2,
   "metadata": {},
   "outputs": [],
   "source": [
    "dt  = 0.001\n",
    "t = 0\n",
    "while t < 2:\n",
    "    rate(200)\n",
    "    t += dt\n",
    "    ball_iron.pos = ball_iron.pos + ball_iron.v * dt\n",
    "    vt1.plot(pos=(t, ball_iron.v.x))\n",
    "    ball_pingpong.pos = ball_pingpong.pos + ball_pingpong.v * dt\n",
    "    vt2.plot(pos=(t, ball_pingpong.v.x))\n",
    "    pt.plot(pos=(t, cal_momentum(ball_iron, ball_pingpong)))\n",
    "    \n",
    "    if mag(ball_iron.pos-ball_pingpong.pos) < (ball_iron.radius+ball_pingpong.radius):\n",
    "        ball_iron.v, ball_pingpong.v = collide(ball_iron.v, ball_pingpong.v, ball_iron.m, ball_pingpong.m)"
   ]
  },
  {
   "cell_type": "code",
   "execution_count": null,
   "metadata": {},
   "outputs": [],
   "source": []
  }
 ],
 "metadata": {
  "kernelspec": {
   "display_name": "Python 3",
   "language": "python",
   "name": "python3"
  },
  "language_info": {
   "codemirror_mode": {
    "name": "ipython",
    "version": 3
   },
   "file_extension": ".py",
   "mimetype": "text/x-python",
   "name": "python",
   "nbconvert_exporter": "python",
   "pygments_lexer": "ipython3",
   "version": "3.8.5"
  }
 },
 "nbformat": 4,
 "nbformat_minor": 4
}
