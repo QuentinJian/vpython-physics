{
 "cells": [
  {
   "cell_type": "code",
   "execution_count": 2,
   "metadata": {},
   "outputs": [
    {
     "data": {
      "text/html": [
       "<div id=\"glowscript\" class=\"glowscript\"></div>"
      ],
      "text/plain": [
       "<IPython.core.display.HTML object>"
      ]
     },
     "metadata": {},
     "output_type": "display_data"
    },
    {
     "data": {
      "application/javascript": [
       "if (typeof Jupyter !== \"undefined\") { window.__context = { glowscript_container: $(\"#glowscript\").removeAttr(\"id\")};}else{ element.textContent = ' ';}"
      ],
      "text/plain": [
       "<IPython.core.display.Javascript object>"
      ]
     },
     "metadata": {},
     "output_type": "display_data"
    }
   ],
   "source": [
    "from vpython import *\n",
    "\n",
    "size = 0.5\n",
    "dt = 0.001\n",
    "t = 0\n",
    "\n",
    "scene = canvas(width=800, height=600, background=vec(0.5,0.5,0.5))\n",
    "x_axis = arrow(axis=vector(1, 0, 0), shaftwidth=0.01, color=color.blue)\n",
    "y_axis = arrow(axis=vector(0, 1, 0), shaftwidth=0.01, color=color.yellow)\n",
    "z_axis = arrow(axis=vector(0, 0, 1), shaftwidth=0.01, color=color.green)\n",
    "\n",
    "label(pos=vec(1.1, 0, 0), text='x', box=False)\n",
    "label(pos=vec(0, 1.1, 0), text='y', box=False)\n",
    "label(pos=vec(0, 0, 1.1), text='z', box=False)\n",
    "earth = sphere(pos=vector(0, 0, 0), radius=size, texture=textures.earth)\n",
    "sponge = sphere(pos=vector(1, 0, 0), radius=size, texture=\"https://lh3.googleusercontent.com/zOFgJ9ERQOwCuH1WbURwOvxPXtJiprXm6d9_tHJk1-XLtHuFIBr3ru-Y7rfbj_eqm1JljXn37HH-Rn2hxaSk5TA=s400\")\n",
    "deathstar = sphere(pos=vector(-1, 0, 0), radius=size, texture=\"https://cdnb.artstation.com/p/assets/images/images/009/344/797/large/david-simmons-tsw-sur-lookdev-v013.jpg?1518449494\")\n",
    "wood = sphere(pos=vector(-2, 0, 0), radius=size, texture=textures.wood)\n",
    "rough = sphere(pos=vector(2, 0, 0), radius=size, texture=textures.rough)\n",
    "balls = [earth, sponge, deathstar, wood, rough]"
   ]
  },
  {
   "cell_type": "code",
   "execution_count": null,
   "metadata": {},
   "outputs": [],
   "source": [
    "gdy = graph(title=\"y-t plot\", width=400, height=200, x=0, y=400, ytitle=\"x(m)\", xmax=20)\n",
    "yt = gcurve(graph=gdy, color=color.green)\n",
    "gdv = graph(title=\"v-t plot\", width=400, height=200, x=0, y=400, ytitle=\"v(m)\", xmax=20)\n",
    "vt = gcurve(graph=gdv, color=color.red)\n",
    "gda = graph(title=\"a-t plot\", width=400, height=200, x=0, y=400, ytitle=\"a(m)\", xmax=20)\n",
    "at = gcurve(graph=gda, color=color.blue)\n",
    "\n",
    "v_ar = arrow(shaftwidth=0.01, color=color.green)\n",
    "v_la = label(text='v', box=0, opacity=0)\n",
    "\n",
    "a_ar = arrow(shaftwidth=0.01, color=color.red)\n",
    "a_la = label(text='a', box=0, opacity=0)\n",
    "\n",
    "x_axis = arrow(axis=vector(1, 0, 0), shaftwidth=0.01, color=color.blue)\n",
    "y_axis = arrow(axis=vector(0, 1, 0), shaftwidth=0.01, color=color.yellow)\n",
    "z_axis = arrow(axis=vector(0, 0, 1), shaftwidth=0.01, color=color.green)\n",
    "\n",
    "def update_arrow(thing, n):\n",
    "    a_ar.axis = thing.a / n\n",
    "    a_ar.pos = thing.pos\n",
    "    a_la.pos = thing.pos + thing.a/n\n",
    "    a_la.text = 'A' + ' ' + str(thing.a)\n",
    "    v_ar.axis = thing.v / n\n",
    "    v_ar.pos = thing.pos\n",
    "    v_la.pos = thing.pos + thing.v/n\n",
    "    v_la.text= 'V' + ' ' + str(thing.v)\n",
    "\n",
    "def plot_graph(thing):\n",
    "    yt.plot(pos=(t, thing.pos.y))\n",
    "    vt.plot(pos=(t, thing.v.y))\n",
    "    at.plot(pos=(t, thing.a.y))"
   ]
  },
  {
   "cell_type": "code",
   "execution_count": null,
   "metadata": {},
   "outputs": [],
   "source": [
    "while True:\n",
    "    rate(1000)\n",
    "    for i in balls:\n",
    "        i.rotate(axis=vector(0, 0, 1), angle=-2*dt)"
   ]
  },
  {
   "cell_type": "code",
   "execution_count": null,
   "metadata": {},
   "outputs": [],
   "source": []
  }
 ],
 "metadata": {
  "kernelspec": {
   "display_name": "Python 3",
   "language": "python",
   "name": "python3"
  },
  "language_info": {
   "codemirror_mode": {
    "name": "ipython",
    "version": 3
   },
   "file_extension": ".py",
   "mimetype": "text/x-python",
   "name": "python",
   "nbconvert_exporter": "python",
   "pygments_lexer": "ipython3",
   "version": "3.8.5"
  }
 },
 "nbformat": 4,
 "nbformat_minor": 4
}
