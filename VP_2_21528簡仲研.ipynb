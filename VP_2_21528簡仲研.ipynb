{
 "cells": [
  {
   "cell_type": "code",
   "execution_count": 1,
   "metadata": {},
   "outputs": [
    {
     "data": {
      "text/html": [
       "<div id=\"glowscript\" class=\"glowscript\"></div>"
      ],
      "text/plain": [
       "<IPython.core.display.HTML object>"
      ]
     },
     "metadata": {},
     "output_type": "display_data"
    },
    {
     "data": {
      "application/javascript": [
       "if (typeof Jupyter !== \"undefined\") { window.__context = { glowscript_container: $(\"#glowscript\").removeAttr(\"id\")};}else{ element.textContent = ' ';}"
      ],
      "text/plain": [
       "<IPython.core.display.Javascript object>"
      ]
     },
     "metadata": {},
     "output_type": "display_data"
    }
   ],
   "source": [
    "#引入vpython 函式庫\n",
    "from vpython import *"
   ]
  },
  {
   "cell_type": "code",
   "execution_count": 6,
   "metadata": {},
   "outputs": [],
   "source": [
    "v = 0.03\n",
    "dt = 0.001\n",
    "t = 0"
   ]
  },
  {
   "cell_type": "code",
   "execution_count": 11,
   "metadata": {},
   "outputs": [
    {
     "data": {
      "text/html": [
       "<div id=\"glowscript\" class=\"glowscript\"></div>"
      ],
      "text/plain": [
       "<IPython.core.display.HTML object>"
      ]
     },
     "metadata": {},
     "output_type": "display_data"
    },
    {
     "data": {
      "application/javascript": [
       "if (typeof Jupyter !== \"undefined\") { window.__context = { glowscript_container: $(\"#glowscript\").removeAttr(\"id\")};}else{ element.textContent = ' ';}"
      ],
      "text/plain": [
       "<IPython.core.display.Javascript object>"
      ]
     },
     "metadata": {},
     "output_type": "display_data"
    }
   ],
   "source": [
    "#常與寬都 400 pixel 的三維空間進行繪圖\n",
    "scene = canvas(title='1D Motion', width=800, height=800, x=0, y=0, center=vec(0, 0.06, 0), background=vec(0.5, 0.6, 0.5))\n",
    "#產生在一個 y 方向很薄的地板\n",
    "floor = box(pos=vec(0, -(0.005)/2, 0), length=0.35, height=0.005, width=0.35, color=color.green)\n",
    "#產生一個正立方物體\n",
    "cube = box(pos=vec(0.15, 0.05/2, 0.15), length=0.05, height=0.05, width=0.05, v=vec(v, 0, 0), color=color.blue)"
   ]
  },
  {
   "cell_type": "code",
   "execution_count": null,
   "metadata": {},
   "outputs": [],
   "source": [
    "while (cube.pos.x < 0.10):\n",
    "    rate(1000)\n",
    "    cube.pos.x += v*dt\n",
    "    t += dt\n",
    "print(\"t=\", t)"
   ]
  },
  {
   "cell_type": "code",
   "execution_count": 8,
   "metadata": {},
   "outputs": [],
   "source": [
    "while t<3:\n",
    "    while (cube.pos.x > -0.15):\n",
    "        rate(10000)\n",
    "        cube.pos.x -= v*dt\n",
    "    while (cube.pos.z > -0.15):\n",
    "        rate(10000)\n",
    "        cube.pos.z -= v*dt\n",
    "    while (cube.pos.x < 0.15):\n",
    "        rate(10000)\n",
    "        cube.pos.x += v*dt\n",
    "    while (cube.pos.z < 0.15):\n",
    "        rate(10000)\n",
    "        cube.pos.z += v*dt\n",
    "    t+=1"
   ]
  },
  {
   "cell_type": "code",
   "execution_count": null,
   "metadata": {},
   "outputs": [],
   "source": []
  }
 ],
 "metadata": {
  "kernelspec": {
   "display_name": "Python 3",
   "language": "python",
   "name": "python3"
  },
  "language_info": {
   "codemirror_mode": {
    "name": "ipython",
    "version": 3
   },
   "file_extension": ".py",
   "mimetype": "text/x-python",
   "name": "python",
   "nbconvert_exporter": "python",
   "pygments_lexer": "ipython3",
   "version": "3.8.5"
  }
 },
 "nbformat": 4,
 "nbformat_minor": 4
}
